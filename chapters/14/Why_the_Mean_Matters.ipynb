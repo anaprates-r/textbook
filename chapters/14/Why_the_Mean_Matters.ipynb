{
 "cells": [
  {
   "cell_type": "markdown",
   "metadata": {},
   "source": [
    "# Por que a Média é Importante\n",
    "Neste curso, estudamos várias estatísticas diferentes, incluindo a distância de variação total, o máximo, a mediana e também a média. Sob suposições claras sobre aleatoriedade, desenhamos distribuições empíricas de todas essas estatísticas. Algumas, como o máximo e a distância de variação total, têm distribuições claramente assimétricas em uma direção ou outra. Mas a distribuição empírica da média amostral quase sempre resulta próxima de uma forma de sino, independentemente da população estudada.\n",
    "\n",
    "Se uma propriedade das amostras aleatórias é verdadeira *independentemente da população,* ela se torna uma ferramenta poderosa para inferência, pois raramente sabemos muito sobre os dados de toda a população. A distribuição da média de uma grande amostra aleatória se enquadra nesta categoria de propriedades. É por isso que as médias amostrais aleatórias são amplamente utilizadas em ciência de dados.\n",
    "\n",
    "Neste capítulo, estudaremos médias e o que podemos dizer sobre elas com apenas suposições mínimas sobre as populações subjacentes. Questões que abordaremos incluem:\n",
    "\n",
    "- O que exatamente a média mede?\n",
    "- Quão próximos da média estão a maioria dos dados?\n",
    "- Como o tamanho da amostra está relacionado à variabilidade da média amostral?\n",
    "- Por que as distribuições empíricas das médias amostrais aleatórias apresentam formato de sino?\n",
    "- Como podemos usar as médias amostrais de forma eficaz para inferência?"
   ]
  }
 ],
 "metadata": {
  "kernelspec": {
   "display_name": "Python 3",
   "language": "python",
   "name": "python3"
  },
  "language_info": {
   "codemirror_mode": {
    "name": "ipython",
    "version": 3
   },
   "file_extension": ".py",
   "mimetype": "text/x-python",
   "name": "python",
   "nbconvert_exporter": "python",
   "pygments_lexer": "ipython3",
   "version": "3.7.8"
  }
 },
 "nbformat": 4,
 "nbformat_minor": 1
}
