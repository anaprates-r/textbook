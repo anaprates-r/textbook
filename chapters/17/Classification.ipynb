{
 "cells": [
  {
   "cell_type": "code",
   "execution_count": 1,
   "metadata": {
    "tags": [
     "remove-input"
    ]
   },
   "outputs": [],
   "source": [
    "import matplotlib\n",
    "#matplotlib.use('Agg')\n",
    "path_data = '../../assets/data/'\n",
    "from datascience import *\n",
    "%matplotlib inline\n",
    "import matplotlib.pyplot as plt\n",
    "from mpl_toolkits.mplot3d import Axes3D\n",
    "import numpy as np\n",
    "import math\n",
    "import scipy.stats as stats\n",
    "plt.style.use('fivethirtyeight')"
   ]
  },
  {
   "cell_type": "markdown",
   "metadata": {},
   "source": [
    "# Classificação\n",
    "\n",
    "*[David Wagner](https://people.eecs.berkeley.edu/~daw/) é o principal autor deste capítulo.*"
   ]
  },
  {
   "cell_type": "markdown",
   "metadata": {},
   "source": [
    "*Machine learning* é uma classe de técnicas para encontrar automaticamente padrões em dados e usá-los para fazer inferências ou previsões. Você já viu a regressão linear, que é um tipo de aprendizado de máquina. Neste capítulo, introduziremos um novo método: *classificação*.\n",
    "\n",
    "A classificação trata de aprender a fazer previsões a partir de exemplos passados. São fornecidos alguns exemplos em que nos foi dito qual foi a previsão correta, e queremos aprender com esses exemplos como fazer boas previsões no futuro. Aqui estão algumas aplicações em que a classificação é usada na prática:\n",
    "\n",
    "- Para cada pedido que a Amazon recebe, a Amazon gostaria de prever: ***esse pedido é fraudulento?*** Eles têm algumas informações sobre cada pedido (por exemplo, seu valor total, se o pedido está sendo enviado para um endereço que esse cliente já usou antes, se o endereço de entrega é o mesmo que o endereço de cobrança do cartão de crédito). Eles têm muitos dados sobre pedidos anteriores e sabem quais desses pedidos passados eram fraudulentos e quais não eram. Eles querem aprender padrões que os ajudem a prever, à medida que novos pedidos chegam, se esses novos pedidos são fraudulentos.\n",
    "\n",
    "- Os sites de namoro online gostariam de prever: ***essas duas pessoas são compatíveis?*** Eles têm muitos dados sobre quais combinações eles sugeriram aos seus clientes no passado, e têm alguma ideia de quais foram bem-sucedidas. À medida que novos clientes se cadastram, eles gostariam de fazer previsões sobre quem pode ser uma boa combinação para eles.\n",
    "\n",
    "- Os médicos gostariam de saber: ***este paciente tem câncer?*** Com base nas medições de alguns exames laboratoriais, eles gostariam de poder prever se o paciente em questão tem câncer. Eles têm muitos dados sobre pacientes anteriores, incluindo suas medições laboratoriais e se eles eventualmente desenvolveram câncer, e a partir disso, eles gostariam de tentar inferir quais medições tendem a ser características de câncer (ou não câncer) para que possam diagnosticar futuros pacientes com precisão.\n",
    "\n",
    "- Os políticos gostariam de prever: ***você vai votar neles?*** Isso os ajudará a focar os esforços de arrecadação de fundos em pessoas que provavelmente os apoiarão e a focar os esforços de mobilização de eleitores nos eleitores que votarão neles. Bancos de dados públicos e comerciais têm muitas informações sobre a maioria das pessoas: por exemplo, se elas próprias uma casa ou alugam; se vivem em um bairro rico ou pobre; seus interesses e hobbies; seus hábitos de compra; entre outros. E as campanhas políticas pesquisaram alguns eleitores e descobriram em quem eles planejam votar, então têm alguns exemplos em que a resposta correta é conhecida. A partir desses dados, as campanhas gostariam de encontrar padrões que os ajudem a fazer previsões sobre todos os outros potenciais eleitores.\n",
    "\n",
    "Todos esses são tarefas de classificação. Observe que em cada um desses exemplos, a previsão é uma pergunta sim/não - chamamos isso de *classificação binária*, porque há apenas duas previsões possíveis.\n",
    "\n",
    "Em uma tarefa de classificação, cada indivíduo ou situação em que gostaríamos de fazer uma previsão é chamado de *observação*. Normalmente temos muitas observações. Cada observação possui vários *atributos*, que são conhecidos (por exemplo, o valor total do pedido na Amazon, ou o salário anual do eleitor). Além disso, cada observação possui uma *classe*, que é a resposta à pergunta que nos interessa (por exemplo, fraudulento ou não, ou votando em você ou não).\n",
    "\n",
    "Quando a Amazon está prevendo se os pedidos são fraudulentos, cada pedido corresponde a uma única observação. Cada observação tem vários atributos: o valor total do pedido, se o pedido está sendo enviado para um endereço que esse cliente já usou antes, entre outros. A classe da observação é 0 ou 1, onde 0 significa que o pedido não é fraudulento e 1 significa que o pedido é fraudulento. Quando um cliente faz um novo pedido, não observamos se ele é fraudulento, mas observamos seus atributos e tentaremos prever sua classe usando esses atributos.\n",
    "\n",
    "A classificação requer dados. Envolve a busca por padrões e, para encontrar padrões, você precisa de dados. Aí é onde entra a ciência de dados. Em particular, vamos assumir que temos acesso aos *dados de treinamento*: um monte de observações, onde conhecemos a classe de cada observação. A coleção dessas observações pré-classificadas também é chamada de conjunto de treinamento. Um algoritmo de classificação vai analisar o conjunto de treinamento e depois criar um classificador: um algoritmo para prever a classe de observações futuras.\n",
    "\n",
    "Os classificadores não precisam ser perfeitos para serem úteis. Eles podem ser úteis mesmo que sua precisão seja inferior a 100%. Por exemplo, se o site de namoro ocasionalmente faz uma recomendação ruim, tudo bem; seus clientes já esperam ter que conhecer muitas pessoas antes de encontrar alguém com quem se darão bem. Claro, você não quer que o classificador cometa muitos erros - mas ele não precisa obter a resposta correta todas as vezes."
   ]
  }
 ],
 "metadata": {
  "anaconda-cloud": {},
  "kernelspec": {
   "display_name": "Python 3",
   "language": "python",
   "name": "python3"
  },
  "language_info": {
   "codemirror_mode": {
    "name": "ipython",
    "version": 3
   },
   "file_extension": ".py",
   "mimetype": "text/x-python",
   "name": "python",
   "nbconvert_exporter": "python",
   "pygments_lexer": "ipython3",
   "version": "3.7.8"
  }
 },
 "nbformat": 4,
 "nbformat_minor": 1
}
