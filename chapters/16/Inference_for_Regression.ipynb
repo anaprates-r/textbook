{
 "cells": [
  {
   "cell_type": "code",
   "execution_count": 1,
   "metadata": {
    "tags": [
     "remove-input"
    ]
   },
   "outputs": [],
   "source": [
    "from datascience import *\n",
    "path_data = '../../assets/data/'\n",
    "import numpy as np\n",
    "import matplotlib\n",
    "matplotlib.use('Agg')\n",
    "%matplotlib inline\n",
    "import matplotlib.pyplot as plots\n",
    "plots.style.use('fivethirtyeight')"
   ]
  },
  {
   "cell_type": "markdown",
   "metadata": {},
   "source": [
    "# Inferência para Regressão\n",
    "\n",
    "Até agora, nossa análise da relação entre variáveis foi puramente descritiva. Sabemos como encontrar a melhor linha reta para traçar em um diagrama de dispersão. A linha é a melhor no sentido de que possui o menor erro quadrático médio de estimativa entre todas as linhas retas.\n",
    "\n",
    "Mas e se nossos dados fossem apenas uma amostra de uma população maior? Se na amostra encontrássemos uma relação linear entre as duas variáveis, o mesmo seria verdade para a população? Seria exatamente a mesma relação linear? Poderíamos prever a resposta de um novo indivíduo que não está em nossa amostra?\n",
    "\n",
    "Tais questões de inferência e previsão surgem se acreditarmos que um diagrama de dispersão reflete a relação subjacente entre as duas variáveis plotadas, mas não especifica a relação completamente. Por exemplo, um diagrama de dispersão de peso ao nascer versus dias gestacionais nos mostra a relação precisa entre as duas variáveis em nossa amostra; mas podemos nos perguntar se essa relação é verdadeira, ou quase verdadeira, para todos os bebês na população da qual a amostra foi retirada, ou de fato entre bebês em geral.\n",
    "\n",
    "Como sempre, o pensamento inferencial começa com um exame cuidadoso das suposições sobre os dados. Conjuntos de suposições são conhecidos como *modelos*. Conjuntos de suposições sobre aleatoriedade em diagramas de dispersão aproximadamente lineares são chamados de *modelos de regressão*."
   ]
  }
 ],
 "metadata": {
  "anaconda-cloud": {},
  "kernelspec": {
   "display_name": "Python 3",
   "language": "python",
   "name": "python3"
  },
  "language_info": {
   "codemirror_mode": {
    "name": "ipython",
    "version": 3
   },
   "file_extension": ".py",
   "mimetype": "text/x-python",
   "name": "python",
   "nbconvert_exporter": "python",
   "pygments_lexer": "ipython3",
   "version": "3.7.8"
  }
 },
 "nbformat": 4,
 "nbformat_minor": 1
}
